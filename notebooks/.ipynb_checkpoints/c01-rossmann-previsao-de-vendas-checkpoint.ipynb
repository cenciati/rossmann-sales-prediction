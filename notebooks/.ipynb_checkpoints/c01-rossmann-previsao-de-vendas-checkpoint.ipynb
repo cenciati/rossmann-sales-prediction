{
 "cells": [
  {
   "cell_type": "markdown",
   "id": "a6a46de0",
   "metadata": {},
   "source": [
    "# Aviso\n",
    "Se você está procurando pelo contexto, resultados ou talvez a estratégia de resolução usada aqui para este problema em questão, você deve ler o arquivo **README.md** deste projeto, que se encontra no meu perfil oficial do GitHub: [rossmann-previsao-de-vendas](https://github.com/cenciati/portfolio/tree/main/rossmann-previsao-de-vendas). Lá você não só encontrará tudo relacionado a parte não técnica do projeto, mas também toda a explicação técnica.\n",
    "\n",
    "*Desde já agradeço!*"
   ]
  },
  {
   "cell_type": "markdown",
   "id": "7a849c07",
   "metadata": {},
   "source": [
    "<h1 style=\"color:red\">CICLO 1</h1>"
   ]
  }
 ],
 "metadata": {
  "kernelspec": {
   "display_name": "Python 3 (ipykernel)",
   "language": "python",
   "name": "python3"
  },
  "language_info": {
   "codemirror_mode": {
    "name": "ipython",
    "version": 3
   },
   "file_extension": ".py",
   "mimetype": "text/x-python",
   "name": "python",
   "nbconvert_exporter": "python",
   "pygments_lexer": "ipython3",
   "version": "3.10.3"
  }
 },
 "nbformat": 4,
 "nbformat_minor": 5
}
